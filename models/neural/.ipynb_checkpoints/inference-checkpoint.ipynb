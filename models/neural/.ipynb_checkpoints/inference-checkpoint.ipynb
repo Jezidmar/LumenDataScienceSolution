{
 "cells": [
  {
   "cell_type": "code",
   "execution_count": 1,
   "metadata": {},
   "outputs": [],
   "source": [
    "import numpy as np, os, keras"
   ]
  },
  {
   "cell_type": "code",
   "execution_count": 2,
   "metadata": {},
   "outputs": [],
   "source": [
    "results ='' # where the test cqt are saved\n",
    "models_dir = ''# where the models from part2 are saved\n",
    "\n",
    "keys = [''] # which keys to test"
   ]
  },
  {
   "cell_type": "code",
   "execution_count": 3,
   "metadata": {},
   "outputs": [],
   "source": [
    "%env CUDA_DEVICE_ORDER=PCI_BUS_ID\n",
    "%env CUDA_VISIBLE_DEVICES=0"
   ]
  },
  {
   "cell_type": "code",
   "execution_count": 4,
   "metadata": {
    "scrolled": true
   },
   "outputs": [],
   "source": [
    "test_cqt = np.load(results+'test_cqt.npy',allow_pickle=True)\n",
    "for key in keys:\n",
    "    print(key)\n",
    "    models = [keras.models.load_model(models_dir+m) for m in os.listdir(models_dir) if (key in m)]\n",
    "    print([m for m in os.listdir(models_dir) if key in m])\n",
    "    y_pred = [np.array([np.max(model.predict(x),0) for x in test_cqt]) for model in models] # changing between 'max' and 'mean' in np.*(model.predict(x),0) result in different aggregation strategy\n",
    "    np.save(results+'y_pred_'+key+'.npy',y_pred)"
   ]
  },
  {
   "cell_type": "code",
   "execution_count": null,
   "metadata": {},
   "outputs": [],
   "source": []
  }
 ],
 "metadata": {
  "kernelspec": {
   "display_name": "Python 3 (ipykernel)",
   "language": "python",
   "name": "python3"
  },
  "language_info": {
   "codemirror_mode": {
    "name": "ipython",
    "version": 3
   },
   "file_extension": ".py",
   "mimetype": "text/x-python",
   "name": "python",
   "nbconvert_exporter": "python",
   "pygments_lexer": "ipython3",
   "version": "3.10.9"
  }
 },
 "nbformat": 4,
 "nbformat_minor": 4
}
