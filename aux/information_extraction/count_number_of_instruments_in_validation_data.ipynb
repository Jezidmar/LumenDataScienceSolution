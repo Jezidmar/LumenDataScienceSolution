{
 "cells": [
  {
   "cell_type": "code",
   "execution_count": 2,
   "id": "94fcc6d0",
   "metadata": {},
   "outputs": [],
   "source": [
    "import glob"
   ]
  },
  {
   "cell_type": "code",
   "execution_count": 1,
   "id": "7e14bc96",
   "metadata": {},
   "outputs": [],
   "source": [
    "path = \"\""
   ]
  },
  {
   "cell_type": "code",
   "execution_count": null,
   "id": "4ab1b492",
   "metadata": {},
   "outputs": [],
   "source": [
    "files = glob.glob(path)"
   ]
  },
  {
   "cell_type": "code",
   "execution_count": null,
   "id": "c31be421",
   "metadata": {},
   "outputs": [],
   "source": [
    "for file in files:\n",
    "    with open(file) as current_file:\n",
    "        lines = current_file.readlines()\n",
    "        count = 0\n",
    "        for line in lines:\n",
    "            if line.strip():\n",
    "                 count = count + 1\n",
    "        print(count)"
   ]
  }
 ],
 "metadata": {
  "kernelspec": {
   "display_name": "Python 3 (ipykernel)",
   "language": "python",
   "name": "python3"
  },
  "language_info": {
   "codemirror_mode": {
    "name": "ipython",
    "version": 3
   },
   "file_extension": ".py",
   "mimetype": "text/x-python",
   "name": "python",
   "nbconvert_exporter": "python",
   "pygments_lexer": "ipython3",
   "version": "3.10.9"
  },
  "vscode": {
   "interpreter": {
    "hash": "4a7b38cd3da86378dfeb74ddeabf87f5cdf9680c93f9c0dfbe49fd868ac81916"
   }
  }
 },
 "nbformat": 4,
 "nbformat_minor": 5
}
