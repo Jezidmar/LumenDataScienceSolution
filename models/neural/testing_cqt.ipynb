{
 "cells": [
  {
   "cell_type": "code",
   "execution_count": 28,
   "metadata": {},
   "outputs": [],
   "source": [
    "import numpy as np, os, librosa\n",
    "from pydub.utils import make_chunks\n",
    "from librosa import core\n",
    "from sklearn.preprocessing import MultiLabelBinarizer"
   ]
  },
  {
   "cell_type": "code",
   "execution_count": 29,
   "metadata": {},
   "outputs": [],
   "source": [
    "dir = ''\n",
    "\n",
    "results ='' # where to save the test cqts"
   ]
  },
  {
   "cell_type": "code",
   "execution_count": 3,
   "metadata": {},
   "outputs": [],
   "source": [
    "test = [dir+f for f in os.listdir(dir) if 'txt' not in f]\n",
    "test.sort()"
   ]
  },
  {
   "cell_type": "code",
   "execution_count": 1,
   "metadata": {},
   "outputs": [],
   "source": [
    "test_cqt = []\n",
    "a = 0\n",
    "for f in test:\n",
    "    x = []\n",
    "    wav,sr = librosa.load(f,mono=True,sr=22050)\n",
    "    wav = wav / np.sqrt(np.mean(wav**2))\n",
    "    chunks = make_chunks(wav,22050)\n",
    "    x = [core.amplitude_to_db(np.abs(core.cqt(ch,n_bins=96,bins_per_octave=12,hop_length=256))) for ch in chunks[:-1]]\n",
    "    x = np.expand_dims(np.array(x),-1)\n",
    "    test_cqt.append(x)\n",
    "    a += 1\n",
    "    if (a%100==0): print(a,\"done from\",len(test));"
   ]
  },
  {
   "cell_type": "code",
   "execution_count": 32,
   "metadata": {},
   "outputs": [],
   "source": [
    "np.save(results+'test_cqt.npy',test_cqt)"
   ]
  },
  {
   "cell_type": "code",
   "execution_count": 33,
   "metadata": {},
   "outputs": [],
   "source": [
    "test = [dir+f for f in os.listdir(dir) if 'wav' not in f]\n",
    "test.sort()"
   ]
  },
  {
   "cell_type": "code",
   "execution_count": 34,
   "metadata": {},
   "outputs": [],
   "source": [
    "y_true = []\n",
    "for f in test:\n",
    "    temp = [x[:-2] for x in open(f,'r')]\n",
    "    y_true.append(temp)"
   ]
  },
  {
   "cell_type": "code",
   "execution_count": 35,
   "metadata": {},
   "outputs": [],
   "source": [
    "mlb = MultiLabelBinarizer()\n",
    "y_true = mlb.fit_transform(y_true)"
   ]
  },
  {
   "cell_type": "code",
   "execution_count": 36,
   "metadata": {},
   "outputs": [],
   "source": [
    "np.save(results+'y_true.npy',y_true)"
   ]
  },
  {
   "cell_type": "code",
   "execution_count": null,
   "metadata": {},
   "outputs": [],
   "source": []
  }
 ],
 "metadata": {
  "kernelspec": {
   "display_name": "Python 3 (ipykernel)",
   "language": "python",
   "name": "python3"
  },
  "language_info": {
   "codemirror_mode": {
    "name": "ipython",
    "version": 3
   },
   "file_extension": ".py",
   "mimetype": "text/x-python",
   "name": "python",
   "nbconvert_exporter": "python",
   "pygments_lexer": "ipython3",
   "version": "3.10.9"
  }
 },
 "nbformat": 4,
 "nbformat_minor": 4
}
