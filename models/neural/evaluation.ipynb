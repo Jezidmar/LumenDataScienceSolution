{
 "cells": [
  {
   "cell_type": "code",
   "execution_count": 50,
   "metadata": {},
   "outputs": [],
   "source": [
    "import numpy as np,os\n",
    "from sklearn.metrics import label_ranking_average_precision_score, roc_auc_score, f1_score, precision_score, recall_score"
   ]
  },
  {
   "cell_type": "code",
   "execution_count": 2,
   "metadata": {},
   "outputs": [],
   "source": [
    "results = ''# where results are saved\n",
    "keys = [''] # which keys to test"
   ]
  },
  {
   "cell_type": "code",
   "execution_count": 52,
   "metadata": {},
   "outputs": [],
   "source": [
    "y_true = np.load(results+'y_true.npy')\n",
    "y_pred = np.load(results+'y_pred_'+keys[0]+'.npy')\n",
    "for key in keys[1:]:\n",
    "    y_pred = y_pred + np.load(results+'y_pred_'+key+'.npy')\n",
    "#y_pred = np.squeeze(y_pred/len(keys),axis=2) \n",
    "y_pred = y_pred / len(keys)\n",
    "instr_pred = [ [y[:,i] for i in np.arange(0,11)] for y in y_pred]\n",
    "instr_true = [y_true[:,i] for i in np.arange(0,11)]"
   ]
  },
  {
   "cell_type": "code",
   "execution_count": 53,
   "metadata": {},
   "outputs": [],
   "source": [
    "lrap_score = [label_ranking_average_precision_score(y_true,y) for y in y_pred]\n",
    "auc_score  = [ [roc_auc_score(instr_true[i],pred[i]) for i in np.arange(0,11)] for pred in instr_pred]\n",
    "f1_macro   = [f1_score(np.argmax(y_true,1),np.argmax(y,1),average='macro') for y in y_pred]\n",
    "f1_micro   = [f1_score(np.argmax(y_true,1),np.argmax(y,1),average='micro') for y in y_pred]"
   ]
  },
  {
   "cell_type": "code",
   "execution_count": 3,
   "metadata": {},
   "outputs": [],
   "source": [
    "\n",
    "k = ''\n",
    "for key in keys: k =key + '-' + k\n",
    "\n",
    "print(\"Mean LRAP for \" +k[:-1]+ \":\",np.mean(lrap_score)*100)\n",
    "print(\"Std  LRAP for \" +k[:-1]+ \":\",np.std(lrap_score)*100,'\\n')\n",
    "\n",
    "print(\"Mean AUC  for \" +k[:-1]+ \":\",np.mean(auc_score)*100)\n",
    "print(\"Std  AUC  for \" +k[:-1]+ \":\",np.std(np.mean((auc_score),1)*100),'\\n')\n",
    "\n",
    "print(\"Mean F1-macro for \" +k[:-1]+ \":\",np.mean(f1_macro)*100)\n",
    "print(\"Std  F1-macro for \" +k[:-1]+ \":\",np.std(f1_macro)*100,'\\n')\n",
    "\n",
    "print(\"Mean F1-micro for \" +k[:-1]+ \":\",np.mean(f1_micro)*100)\n",
    "print(\"Std  F1-micro for \" +k[:-1]+ \":\",np.std(f1_micro)*100,'\\n')"
   ]
  },
  {
   "cell_type": "code",
   "execution_count": 1,
   "metadata": {
    "collapsed": true
   },
   "outputs": [
    {
     "ename": "NameError",
     "evalue": "name 'y_pred' is not defined",
     "output_type": "error",
     "traceback": [
      "\u001b[0;31m---------------------------------------------------------------------------\u001b[0m",
      "\u001b[0;31mNameError\u001b[0m                                 Traceback (most recent call last)",
      "Cell \u001b[0;32mIn[1], line 2\u001b[0m\n\u001b[1;32m      1\u001b[0m f_macro, f_micro \u001b[38;5;241m=\u001b[39m [], []\n\u001b[0;32m----> 2\u001b[0m \u001b[38;5;28;01mfor\u001b[39;00m pred \u001b[38;5;129;01min\u001b[39;00m \u001b[43my_pred\u001b[49m:\n\u001b[1;32m      4\u001b[0m     temp_micro, temp_macro \u001b[38;5;241m=\u001b[39m [], []\n\u001b[1;32m      5\u001b[0m     \u001b[38;5;28;01mfor\u001b[39;00m t \u001b[38;5;129;01min\u001b[39;00m np\u001b[38;5;241m.\u001b[39marange(\u001b[38;5;241m0.01\u001b[39m,\u001b[38;5;241m1\u001b[39m,\u001b[38;5;241m0.01\u001b[39m): \n",
      "\u001b[0;31mNameError\u001b[0m: name 'y_pred' is not defined"
     ]
    }
   ],
   "source": [
    "# Finding optimal threshold for F score\n",
    "\n",
    "f_macro, f_micro = [], []\n",
    "for pred in y_pred:\n",
    "    \n",
    "    temp_micro, temp_macro = [], []\n",
    "    for t in np.arange(0.01,1,0.01): \n",
    "\n",
    "        p = precision_score(pred > t, y_true,average='macro') \n",
    "        r = recall_score(pred > t, y_true,average='macro') \n",
    "        temp_macro.append(2*p*r/(p+r))\n",
    "\n",
    "        p = precision_score(pred > t, y_true,average='micro') \n",
    "        r = recall_score(pred > t, y_true,average='micro') \n",
    "        temp_micro.append(2*p*r/(p+r))\n",
    "    \n",
    "    f_macro.append(temp_macro)\n",
    "    f_micro.append(temp_micro)\n",
    "    \n",
    "print(\"Macro f-score\", max(f_macro), \"micro f-score\", max(f_micro) )"
   ]
  },
  {
   "cell_type": "code",
   "execution_count": null,
   "metadata": {},
   "outputs": [],
   "source": []
  }
 ],
 "metadata": {
  "kernelspec": {
   "display_name": "Python 3 (ipykernel)",
   "language": "python",
   "name": "python3"
  },
  "language_info": {
   "codemirror_mode": {
    "name": "ipython",
    "version": 3
   },
   "file_extension": ".py",
   "mimetype": "text/x-python",
   "name": "python",
   "nbconvert_exporter": "python",
   "pygments_lexer": "ipython3",
   "version": "3.10.9"
  }
 },
 "nbformat": 4,
 "nbformat_minor": 4
}
