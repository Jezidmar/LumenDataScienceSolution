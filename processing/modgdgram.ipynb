{
 "cells": [
  {
   "cell_type": "code",
   "execution_count": 810,
   "id": "5f3a85ae",
   "metadata": {},
   "outputs": [],
   "source": [
    "import numpy as np\n",
    "import matplotlib.pyplot as plt\n",
    "import scipy.io.wavfile as wavfile\n",
    "import librosa\n",
    "from numpy import genfromtxt"
   ]
  },
  {
   "cell_type": "code",
   "execution_count": 811,
   "id": "c7a4f4d7",
   "metadata": {},
   "outputs": [],
   "source": [
    "def cepsmooth(sig, smoothing, falloff, slen):\n",
    "    tlen = int(round(slen*smoothing/2.0))*2\n",
    "    hlen = int(round(tlen*falloff/2.0))\n",
    "    hwin = np.hanning(2*hlen + 2)[1:-1]\n",
    "    hl = hwin[:hlen]\n",
    "    hr = hwin[hlen:]\n",
    "\n",
    "    win = np.concatenate((np.ones(tlen//2-hlen), hr, np.zeros(slen-tlen),\n",
    "                          hl, np.ones(tlen//2-hlen)))\n",
    "    win = win.reshape(win.shape[0], 1)\n",
    "    smspec =\\\n",
    "        np.real(np.fft.ifft(np.log(np.abs(np.fft.fft(sig, slen, axis=0))), axis=0))\n",
    "\n",
    "    smspec = np.exp(np.real(np.fft.fft(smspec*win, axis=0)))\n",
    "\n",
    "    # fig, ax = plt.subplots()\n",
    "    # ax.imshow(win)\n",
    "\n",
    "    return smspec\n"
   ]
  },
  {
   "cell_type": "code",
   "execution_count": 812,
   "id": "88e3db05",
   "metadata": {},
   "outputs": [],
   "source": [
    "def buffer(X, n, p=0, opt=None):\n",
    "    '''Mimic MATLAB routine to generate buffer array\n",
    "\n",
    "    MATLAB docs here: https://se.mathworks.com/help/signal/ref/buffer.html\n",
    "\n",
    "    Parameters\n",
    "    ----------\n",
    "    x: ndarray\n",
    "        Signal array\n",
    "    n: int\n",
    "        Number of data segments\n",
    "    p: int\n",
    "        Number of values to overlap\n",
    "    opt: str\n",
    "        Initial condition options. default sets the first `p` values to zero,\n",
    "        while 'nodelay' begins filling the buffer immediately.\n",
    "\n",
    "    Returns\n",
    "    -------\n",
    "    result : (n,n) ndarray\n",
    "        Buffer array created from X\n",
    "    '''\n",
    "    import numpy as np\n",
    "\n",
    "    if opt not in [None, 'nodelay']:\n",
    "        raise ValueError('{} not implemented'.format(opt))\n",
    "\n",
    "    i = 0\n",
    "    first_iter = True\n",
    "    while i < len(X):\n",
    "        if first_iter:\n",
    "            if opt == 'nodelay':\n",
    "                # No zeros at array start\n",
    "                result = X[:n]\n",
    "                i = n\n",
    "            else:\n",
    "                # Start with `p` zeros\n",
    "                result = np.hstack([np.zeros(p), X[:n-p]])\n",
    "                i = n-p\n",
    "            # Make 2D array and pivot\n",
    "            result = np.expand_dims(result, axis=0).T\n",
    "            first_iter = False\n",
    "            continue\n",
    "\n",
    "        # Create next column, add `p` results from last col if given\n",
    "        col = X[i:i+(n-p)]\n",
    "        if p != 0:\n",
    "            col = np.hstack([result[:, -1][-p:], col])\n",
    "        i += n-p\n",
    "\n",
    "        # Append zeros if last row and not length `n`\n",
    "        if len(col) < n:\n",
    "            col = np.hstack([col, np.zeros(n-len(col))])\n",
    "\n",
    "        # Combine result with next row\n",
    "        result = np.hstack([result, np.expand_dims(col, axis=0).T])\n",
    "\n",
    "    return result\n"
   ]
  },
  {
   "cell_type": "code",
   "execution_count": 813,
   "id": "0c2e3af2",
   "metadata": {},
   "outputs": [],
   "source": [
    "def modgdgram(name):\n",
    "    srate = 44100\n",
    "    _, s1 = wavfile.read(name)\n",
    "    s1 = s1.T / 32768.0  # normalize\n",
    "    fft_pts = 8192\n",
    "    m = 441\n",
    "    n = 1365  # 240\n",
    "    p, l = s1.shape\n",
    "    s1 = s1.reshape(l * p)\n",
    "    nbFrame = int(np.floor((l - n) / m) + 1)\n",
    "    M1 = buffer(s1, n, n-m)\n",
    "    win1 = np.hamming(n)[:, np.newaxis]\n",
    "    smspec = np.zeros((fft_pts, nbFrame))\n",
    "    range_n = np.arange(n)[:, np.newaxis]\n",
    "    M2 = M1[:, :nbFrame] * range_n\n",
    "    M = M1[:, :nbFrame] * win1\n",
    "    for i in range(nbFrame):\n",
    "        smspec[:, i,] = np.squeeze(cepsmooth(M[:, i, np.newaxis], 0.01, 0.8, fft_pts))\n",
    "\n",
    "    fft_M1 = np.fft.fft(M, fft_pts, axis=0)\n",
    "    fft_M2 = np.fft.fft(M2, fft_pts, axis=0)\n",
    "    gamma = 0.5\n",
    "    alpha = 0.9\n",
    "    r = np.zeros((fft_pts, nbFrame), dtype=np.complex128)\n",
    "    rf = np.zeros((fft_pts, nbFrame))\n",
    "\n",
    "    r = np.real(fft_M1) * np.real(fft_M2) + np.imag(fft_M1) * np.imag(fft_M2) / (np.abs(smspec) ** (2 * gamma))\n",
    "    rf = (r / np.abs(r)) * (np.abs(r) ** alpha)\n",
    "\n",
    "    return rf\n"
   ]
  },
  {
   "cell_type": "code",
   "execution_count": 814,
   "id": "8434b9a2",
   "metadata": {},
   "outputs": [],
   "source": [
    "filename = ''\n"
   ]
  },
  {
   "cell_type": "code",
   "execution_count": 815,
   "id": "06462a32",
   "metadata": {},
   "outputs": [],
   "source": [
    "# this is the only function that needs to be called to get a modgdgram\n",
    "r = modgdgram(filename)"
   ]
  },
  {
   "cell_type": "code",
   "execution_count": 1,
   "id": "ff1ed677",
   "metadata": {},
   "outputs": [],
   "source": [
    "# # Comparison with data from matlab\n",
    "# matlab_data = genfromtxt('', delimiter=',')\n",
    "# comparison = np.allclose(matlab_data, r, rtol=0, atol=10**-9)\n",
    "# comparison"
   ]
  },
  {
   "cell_type": "code",
   "execution_count": 818,
   "id": "0c5a46b9",
   "metadata": {},
   "outputs": [],
   "source": [
    "## plotting the result\n",
    "# plt.figure(figsize=(8.34, 6.25))\n",
    "# aspect_ratio = float(r[0:1500, :].shape[1]) / float(r[0:1500, :].shape[0])\n",
    "# plt.imshow(r[0:1500, :],\n",
    "#            origin=\"lower\",\n",
    "#            cmap='viridis',\n",
    "#            aspect=aspect_ratio,\n",
    "#            vmin = 0, vmax = 1024)\n",
    "# plt.margins(0, 0)\n",
    "# plt.xticks([])\n",
    "# plt.yticks([])\n",
    "# plt.show()"
   ]
  }
 ],
 "metadata": {
  "kernelspec": {
   "display_name": "Python 3 (ipykernel)",
   "language": "python",
   "name": "python3"
  },
  "language_info": {
   "codemirror_mode": {
    "name": "ipython",
    "version": 3
   },
   "file_extension": ".py",
   "mimetype": "text/x-python",
   "name": "python",
   "nbconvert_exporter": "python",
   "pygments_lexer": "ipython3",
   "version": "3.10.9"
  }
 },
 "nbformat": 4,
 "nbformat_minor": 5
}
