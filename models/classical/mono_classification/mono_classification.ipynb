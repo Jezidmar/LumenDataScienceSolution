{
 "cells": [
  {
   "cell_type": "code",
   "execution_count": 1,
   "id": "ba9fa462",
   "metadata": {},
   "outputs": [],
   "source": [
    "import os\n",
    "import pandas as pd\n",
    "import numpy as np\n",
    "import seaborn as sns\n",
    "import matplotlib.pyplot as plt\n",
    "%matplotlib inline\n",
    "import sklearn\n",
    "import librosa\n",
    "import librosa.display\n",
    "import IPython.display as ipd\n",
    "from glob import glob\n",
    "import warnings\n",
    "warnings.filterwarnings('ignore')\n",
    "import csv\n",
    "\n",
    "from sklearn.metrics import confusion_matrix, accuracy_score, roc_auc_score, roc_curve\n",
    "from sklearn import preprocessing\n",
    "from sklearn.model_selection import train_test_split\n",
    "from sklearn.feature_selection import RFE\n",
    "\n",
    "from sklearn.naive_bayes import GaussianNB\n",
    "from sklearn.tree import DecisionTreeClassifier\n",
    "from sklearn.linear_model import LogisticRegression\n",
    "from sklearn.svm import SVC\n",
    "from sklearn.linear_model import SGDClassifier\n",
    "from xgboost import XGBClassifier"
   ]
  },
  {
   "cell_type": "code",
   "execution_count": 20,
   "id": "504037be",
   "metadata": {},
   "outputs": [],
   "source": [
    "# %pwd, %cd if path is not right\n",
    "\n",
    "def load_features(path):\n",
    "    data = pd.read_csv(path)\n",
    "    prefix = 'feature_'\n",
    "    new_columns = []\n",
    "    for col in range(66):\n",
    "        new_col = prefix + str(col)\n",
    "        new_columns.append(new_col)\n",
    "    data.columns = new_columns\n",
    "    # # uncoment this to check that data is loaded\n",
    "    # data.head()\n",
    "    return data"
   ]
  },
  {
   "cell_type": "code",
   "execution_count": 21,
   "id": "cefb2fd1",
   "metadata": {},
   "outputs": [],
   "source": [
    "def create_dictionary_for_instruments(instruments):\n",
    "    dict = {}\n",
    "    i = 0\n",
    "    for instrument in instruments:\n",
    "        dict[instrument] = i\n",
    "        i += 1\n",
    "    return dict"
   ]
  },
  {
   "cell_type": "code",
   "execution_count": 22,
   "id": "28922914",
   "metadata": {},
   "outputs": [],
   "source": [
    "def select_instrument_subset_and_replace_labels(instruments, features):\n",
    "    features = features.iloc[0:, 1:]\n",
    "\n",
    "    features = features.loc[features['feature_65'].isin(instruments)]\n",
    "\n",
    "\n",
    "    dict = create_dictionary_for_instruments(instruments)\n",
    "\n",
    "    # replace the values in the 'feature_59' column using the dictionary\n",
    "    y = features['feature_65'].replace(dict)\n",
    "\n",
    "    return features, y"
   ]
  },
  {
   "cell_type": "code",
   "execution_count": 23,
   "id": "e2e0ca2c",
   "metadata": {},
   "outputs": [],
   "source": [
    "def remove_unwanted_features(X):\n",
    "    X = X.loc[:, X.columns != 'feature_65'] #select all columns but not the labels\n",
    "    X = X.loc[:, X.columns != 'feature_1']\n",
    "    X = X.loc[:, X.columns != 'feature_18']\n",
    "\n",
    "    return X"
   ]
  },
  {
   "cell_type": "code",
   "execution_count": 24,
   "id": "76b825fa",
   "metadata": {},
   "outputs": [],
   "source": [
    "def remove_unwanted_features_and_normalize(X):\n",
    "    X = X.loc[:, X.columns != 'feature_65'] #select all columns but not the labels\n",
    "    X = X.loc[:, X.columns != 'feature_1']\n",
    "    X = X.loc[:, X.columns != 'feature_18']\n",
    "\n",
    "    X_normalized = (X - X.mean()) / X.std()\n",
    "\n",
    "    return X"
   ]
  },
  {
   "cell_type": "code",
   "execution_count": 25,
   "id": "c59bb8fb",
   "metadata": {},
   "outputs": [],
   "source": [
    "def model_assess(model, title, X_train, X_test, y_train, y_test):\n",
    "    model.fit(X_train, y_train)\n",
    "    preds = model.predict(X_test)\n",
    "    print('Accuracy', title, ':', round(accuracy_score(y_test, preds), 5), '\\n')"
   ]
  },
  {
   "cell_type": "code",
   "execution_count": 26,
   "id": "3d5e3fe5",
   "metadata": {},
   "outputs": [],
   "source": [
    "def plot_confusion_matrix(model_type, preds, y_test, accuracy, instruments):\n",
    "    plt.rcParams[\"font.family\"] = \"serif\"\n",
    "\n",
    "    # preds = model.predict(X_test)\n",
    "    # accuracy = round(accuracy_score(y_test, preds), 5)\n",
    "    # print('Accuracy', ':', round(accuracy, 5), '\\n')\n",
    "    # Confusion Matrix\n",
    "    confusion_matr = confusion_matrix(y_test, preds) #normalize = 'true'\n",
    "\n",
    "    confusion_matr_normalized = confusion_matr.astype('float') / confusion_matr.sum(axis=1)[:,np.newaxis]\n",
    "    figsize = (16, 9)\n",
    "    figure,ax=plt.subplots(figsize=figsize)\n",
    "    sns.heatmap(confusion_matr_normalized, cmap=\"Blues\", annot=True, \n",
    "                xticklabels = instruments,\n",
    "                yticklabels = instruments)\n",
    "\n",
    "    font_params = {  \n",
    "                    'weight' : 'normal',\n",
    "                    'size' : 15,\n",
    "                }\n",
    "    font_label = {  \n",
    "                    'weight' : 'bold',\n",
    "                    'size' : 22,\n",
    "                }\n",
    "\n",
    "    font_title = {  \n",
    "                    'weight' : 'bold',\n",
    "                    'size' : 25,\n",
    "                }\n",
    "    plt.tick_params(labelsize=15)\n",
    "    labels = ax.get_xticklabels() + ax.get_yticklabels()\n",
    "    plt.xlabel('Target Class',font_label)\n",
    "    plt.ylabel('Output Class',font_label)\n",
    "    plt.title('Accuracy of ' + model_type + ': ' +str(round(accuracy*100,3))+'%',font_title)\n",
    "    plt.tight_layout()\n",
    "    plt.show()\n",
    "    # plt.savefig(\"probability conf matrix.jpg\")"
   ]
  },
  {
   "cell_type": "code",
   "execution_count": 27,
   "id": "40cf1a90",
   "metadata": {},
   "outputs": [],
   "source": [
    "model_dict = {\n",
    "        'naive_bayes': GaussianNB,\n",
    "        'decision_trees': DecisionTreeClassifier,\n",
    "        'logistic_regression': LogisticRegression,\n",
    "        'support_vector_machine': SVC,\n",
    "        'stochastic_gradient_descent': SGDClassifier,\n",
    "        'xgboost': XGBClassifier\n",
    "    }\n",
    "def select_model(model_type):\n",
    "    return model_dict[model_type]"
   ]
  },
  {
   "cell_type": "code",
   "execution_count": 28,
   "id": "f1706c9b",
   "metadata": {},
   "outputs": [],
   "source": [
    "def fit_model(model_type, X_train, y_train, X_test, y_test, instruments):\n",
    "    model = select_model(model_type)()\n",
    "\n",
    "    model.fit(X_train, y_train)\n",
    "    preds = model.predict(X_test)\n",
    "    accuracy = round(accuracy_score(y_test, preds), 5)\n",
    "\n",
    "    return accuracy"
   ]
  },
  {
   "cell_type": "code",
   "execution_count": 29,
   "id": "ef89d97d",
   "metadata": {},
   "outputs": [],
   "source": [
    "def fit_and_plot_model(model_type, X_train, y_train, X_test, y_test, instruments):\n",
    "    model = select_model(model_type)()\n",
    "\n",
    "    model.fit(X_train, y_train)\n",
    "    preds = model.predict(X_test)\n",
    "    accuracy = round(accuracy_score(y_test, preds), 5)\n",
    "\n",
    "    plot_confusion_matrix(model_type, preds, y_test, accuracy, instruments)"
   ]
  },
  {
   "cell_type": "code",
   "execution_count": 30,
   "id": "af1c14a8",
   "metadata": {},
   "outputs": [],
   "source": [
    "def test_and_plot_confusion_matrix(instruments, features_path, model_type):\n",
    "\n",
    "    features = load_features(features_path)\n",
    "\n",
    "    X, y = select_instrument_subset_and_replace_labels(instruments, features)\n",
    "\n",
    "    X = remove_unwanted_features(X)\n",
    "\n",
    "    X_train, X_test, y_train, y_test = train_test_split(X, y, test_size=0.2, random_state=42)\n",
    "    if model_type is None:\n",
    "        for model_type in list(model_dict.keys()):\n",
    "            fit_and_plot_model(model_type, X_train, y_train, X_test, y_test, instruments)\n",
    "    else:\n",
    "        fit_and_plot_model(model_type, X_train, y_train, X_test, y_test, instruments)"
   ]
  },
  {
   "cell_type": "code",
   "execution_count": 31,
   "id": "0305333b",
   "metadata": {},
   "outputs": [],
   "source": [
    "def test_and_return_results(instruments, features_path, model_type):\n",
    "\n",
    "    features = load_features(features_path)\n",
    "\n",
    "    X, y = select_instrument_subset_and_replace_labels(instruments, features)\n",
    "\n",
    "    X = remove_unwanted_features(X)\n",
    "\n",
    "    X_train, X_test, y_train, y_test = train_test_split(X, y, test_size=0.2, random_state=42)\n",
    "    if model_type is None:\n",
    "        acc_max = 0\n",
    "        model_max = \"\"\n",
    "        for model_type in list(model_dict.keys()):\n",
    "            acc_curr = fit_model(model_type, X_train, y_train, X_test, y_test, instruments)\n",
    "            if acc_curr > acc_max:\n",
    "                acc_max = acc_curr\n",
    "                model_max = model_type\n",
    "        return acc_max, model_max\n",
    "    else:\n",
    "        acc = fit_model(model_type, X_train, y_train, X_test, y_test, instruments)\n",
    "    return acc, model_type\n",
    "    "
   ]
  },
  {
   "cell_type": "code",
   "execution_count": 15,
   "id": "fa31403b",
   "metadata": {},
   "outputs": [],
   "source": [
    "all_instruments = ['cel', 'cla', 'flu', 'gac', 'gel', 'org', 'pia', 'sax', 'tru', 'vio', 'voi']"
   ]
  },
  {
   "cell_type": "code",
   "execution_count": 1,
   "id": "936b0884",
   "metadata": {},
   "outputs": [],
   "source": [
    "# generate best model accuracies for all pairs of instruments\n",
    "features_path = 'test.csv'\n",
    "bad_pairs = []\n",
    "for i in range(0, 10):\n",
    "    for j in range(i + 1, 11):\n",
    "        print(all_instruments[i] + ' vs. ' + all_instruments[j])\n",
    "        pair_of_instruments = [all_instruments[i], all_instruments[j]]\n",
    "        acc_max, model_max = test_and_return_results(pair_of_instruments, features_path, None)\n",
    "        print(model_max + \": \" + str(acc_max))\n",
    "        if acc_max < 0.9:\n",
    "            bad_pairs.append((all_instruments[i], all_instruments[j], acc_max))"
   ]
  },
  {
   "cell_type": "code",
   "execution_count": 2,
   "id": "cf475ea3",
   "metadata": {},
   "outputs": [],
   "source": [
    "# pairs of instrument for which the pairwise distinguishing is the worst\n",
    "bad_pairs"
   ]
  },
  {
   "cell_type": "markdown",
   "id": "a6f85e7e",
   "metadata": {},
   "source": [
    "## Tuning parameters of models"
   ]
  },
  {
   "cell_type": "code",
   "execution_count": 84,
   "id": "2b50411d",
   "metadata": {},
   "outputs": [
    {
     "name": "stdout",
     "output_type": "stream",
     "text": [
      "0.67084\n"
     ]
    }
   ],
   "source": [
    "features = load_features(features_path)\n",
    "\n",
    "X, y = select_instrument_subset_and_replace_labels(all_instruments, features)\n",
    "\n",
    "X = remove_unwanted_features(X)\n",
    "\n",
    "X_train, X_test, y_train, y_test = train_test_split(X, y, test_size=0.2, random_state=42)\n",
    "\n",
    "model = select_model('xgboost')(learning_rate=0.05, n_estimators=500, max_depth=10, min_child_weight=1)\n",
    "\n",
    "model.fit(X_train, y_train)\n",
    "preds = model.predict(X_test)\n",
    "accuracy = round(accuracy_score(y_test, preds), 5)\n",
    "print(accuracy)"
   ]
  },
  {
   "cell_type": "code",
   "execution_count": 83,
   "id": "6e7e8c39",
   "metadata": {},
   "outputs": [
    {
     "name": "stdout",
     "output_type": "stream",
     "text": [
      "XGBClassifier(base_score=None, booster=None, callbacks=None,\n",
      "              colsample_bylevel=None, colsample_bynode=None,\n",
      "              colsample_bytree=None, early_stopping_rounds=None,\n",
      "              enable_categorical=False, eval_metric=None, feature_types=None,\n",
      "              gamma=None, gpu_id=None, grow_policy=None, importance_type=None,\n",
      "              interaction_constraints=None, learning_rate=0.01, max_bin=None,\n",
      "              max_cat_threshold=None, max_cat_to_onehot=None,\n",
      "              max_delta_step=None, max_depth=10, max_leaves=None,\n",
      "              min_child_weight=1, missing=nan, monotone_constraints=None,\n",
      "              n_estimators=500, n_jobs=None, num_parallel_tree=None,\n",
      "              objective='multi:softprob', predictor=None, ...)\n"
     ]
    }
   ],
   "source": [
    "print(model)"
   ]
  },
  {
   "cell_type": "code",
   "execution_count": null,
   "id": "65f7ce76",
   "metadata": {},
   "outputs": [
    {
     "name": "stdout",
     "output_type": "stream",
     "text": [
      "{'C': 10, 'degree': 2, 'gamma': 0.1, 'kernel': 'rbf'}\n",
      "              precision    recall  f1-score   support\n",
      "\n",
      "           0       0.80      0.58      0.67        71\n",
      "           1       0.80      0.68      0.73       139\n",
      "           2       0.70      0.59      0.64        76\n",
      "           3       0.77      0.78      0.77       122\n",
      "           4       0.79      0.78      0.79       153\n",
      "           5       0.81      0.77      0.79       142\n",
      "           6       0.78      0.67      0.72       143\n",
      "           7       0.69      0.55      0.61       134\n",
      "           8       0.62      0.71      0.66       107\n",
      "           9       0.65      0.62      0.64       106\n",
      "          10       0.58      0.92      0.71       165\n",
      "\n",
      "    accuracy                           0.71      1358\n",
      "   macro avg       0.73      0.70      0.70      1358\n",
      "weighted avg       0.73      0.71      0.71      1358\n",
      "\n"
     ]
    }
   ],
   "source": [
    "from sklearn.svm import SVC\n",
    "from sklearn.metrics import classification_report\n",
    "from sklearn.model_selection import GridSearchCV\n",
    "from sklearn.preprocessing import StandardScaler\n",
    "\n",
    "\n",
    "#X_train= scaler.transform(X_train)\n",
    "\n",
    "\n",
    "\n",
    "# declare parameter ranges to try\n",
    "params = {\n",
    "    'C': [8,8.1,8.2,8.3,8.9,9],  # Regularization parameter\n",
    "    'kernel': ['poly', 'rbf'],  # Kernel function\n",
    "    'degree': [2, 3, 4],  # Degree of the polynomial kernel (if applicable)\n",
    "    'gamma': [0.39]  # Kernel coefficient (scale or auto for 'rbf', or numeric value)\n",
    "}\n",
    "\n",
    "# initialise estimator\n",
    "svm_classifier = SVC(class_weight='balanced')\n",
    "\n",
    "# initialise grid search model\n",
    "model = GridSearchCV(estimator=svm_classifier, \n",
    "                     param_grid=params,\n",
    "                     scoring='accuracy',\n",
    "                     n_jobs=-1)\n",
    "\n",
    "model.fit(scaler.transform(X_train), y_train)\n",
    "\n",
    "y_pred = model.predict(scaler.transform(X_test))\n",
    "\n",
    "print(model.best_params_)\n",
    "print(classification_report(y_test, y_pred))"
   ]
  },
  {
   "cell_type": "code",
   "execution_count": null,
   "id": "64d65a8e",
   "metadata": {},
   "outputs": [
    {
     "name": "stderr",
     "output_type": "stream",
     "text": [
      "\u001b[32m[I 2023-04-19 03:07:38,079]\u001b[0m A new study created in memory with name: no-name-240e17aa-fa12-429c-99ee-5b07d7ab6d41\u001b[0m\n",
      "\u001b[32m[I 2023-04-19 03:07:40,467]\u001b[0m Trial 0 finished with value: 0.7422680412371134 and parameters: {'C': 14.999575909342413, 'gamma': 0.029543664629568422}. Best is trial 0 with value: 0.7422680412371134.\u001b[0m\n",
      "\u001b[32m[I 2023-04-19 03:07:42,758]\u001b[0m Trial 1 finished with value: 0.7422680412371134 and parameters: {'C': 15.878031115167877, 'gamma': 0.028217460653687215}. Best is trial 0 with value: 0.7422680412371134.\u001b[0m\n",
      "\u001b[32m[I 2023-04-19 03:07:45,205]\u001b[0m Trial 2 finished with value: 0.7415316642120766 and parameters: {'C': 13.177374841198757, 'gamma': 0.034541999906854845}. Best is trial 0 with value: 0.7422680412371134.\u001b[0m\n",
      "\u001b[32m[I 2023-04-19 03:07:47,625]\u001b[0m Trial 3 finished with value: 0.7415316642120766 and parameters: {'C': 15.76101094916819, 'gamma': 0.03323426665598193}. Best is trial 0 with value: 0.7422680412371134.\u001b[0m\n",
      "\u001b[32m[I 2023-04-19 03:07:50,148]\u001b[0m Trial 4 finished with value: 0.7430044182621502 and parameters: {'C': 15.160832852436359, 'gamma': 0.03835547664586092}. Best is trial 4 with value: 0.7430044182621502.\u001b[0m\n",
      "\u001b[32m[I 2023-04-19 03:07:52,313]\u001b[0m Trial 5 finished with value: 0.7407952871870398 and parameters: {'C': 13.546716872184147, 'gamma': 0.025326504573470996}. Best is trial 4 with value: 0.7430044182621502.\u001b[0m\n",
      "\u001b[32m[I 2023-04-19 03:07:54,737]\u001b[0m Trial 6 finished with value: 0.7422680412371134 and parameters: {'C': 14.077229517748867, 'gamma': 0.03296402912526917}. Best is trial 4 with value: 0.7430044182621502.\u001b[0m\n",
      "\u001b[32m[I 2023-04-19 03:07:57,018]\u001b[0m Trial 7 finished with value: 0.7422680412371134 and parameters: {'C': 14.209834915230124, 'gamma': 0.02683713411567039}. Best is trial 4 with value: 0.7430044182621502.\u001b[0m\n",
      "\u001b[32m[I 2023-04-19 03:07:59,252]\u001b[0m Trial 8 finished with value: 0.7437407952871871 and parameters: {'C': 13.412051946771484, 'gamma': 0.028161743898863622}. Best is trial 8 with value: 0.7437407952871871.\u001b[0m\n",
      "\u001b[32m[I 2023-04-19 03:08:01,690]\u001b[0m Trial 9 finished with value: 0.7415316642120766 and parameters: {'C': 15.46207819541305, 'gamma': 0.03380484823951886}. Best is trial 8 with value: 0.7437407952871871.\u001b[0m\n",
      "\u001b[32m[I 2023-04-19 03:08:04,057]\u001b[0m Trial 10 finished with value: 0.7430044182621502 and parameters: {'C': 13.062727242127888, 'gamma': 0.030069457461551347}. Best is trial 8 with value: 0.7437407952871871.\u001b[0m\n",
      "\u001b[32m[I 2023-04-19 03:08:06,547]\u001b[0m Trial 11 finished with value: 0.7422680412371134 and parameters: {'C': 14.853410285680544, 'gamma': 0.037022381382843694}. Best is trial 8 with value: 0.7437407952871871.\u001b[0m\n",
      "\u001b[32m[I 2023-04-19 03:08:09,084]\u001b[0m Trial 12 finished with value: 0.7407952871870398 and parameters: {'C': 13.747297613462925, 'gamma': 0.03974198028550936}. Best is trial 8 with value: 0.7437407952871871.\u001b[0m\n",
      "\u001b[32m[I 2023-04-19 03:08:11,480]\u001b[0m Trial 13 finished with value: 0.7444771723122239 and parameters: {'C': 14.616434393335663, 'gamma': 0.030987797031943282}. Best is trial 13 with value: 0.7444771723122239.\u001b[0m\n",
      "\u001b[32m[I 2023-04-19 03:08:13,856]\u001b[0m Trial 14 finished with value: 0.7452135493372607 and parameters: {'C': 14.567743294607403, 'gamma': 0.03117873200129641}. Best is trial 14 with value: 0.7452135493372607.\u001b[0m\n",
      "\u001b[32m[I 2023-04-19 03:08:16,247]\u001b[0m Trial 15 finished with value: 0.7444771723122239 and parameters: {'C': 14.457296239020435, 'gamma': 0.030890504864215254}. Best is trial 14 with value: 0.7452135493372607.\u001b[0m\n",
      "\u001b[32m[I 2023-04-19 03:08:18,617]\u001b[0m Trial 16 finished with value: 0.7444771723122239 and parameters: {'C': 14.546928203239558, 'gamma': 0.03172054565865094}. Best is trial 14 with value: 0.7452135493372607.\u001b[0m\n",
      "\u001b[32m[I 2023-04-19 03:08:20,996]\u001b[0m Trial 17 finished with value: 0.7430044182621502 and parameters: {'C': 14.719281221001488, 'gamma': 0.03153528253782155}. Best is trial 14 with value: 0.7452135493372607.\u001b[0m\n",
      "\u001b[32m[I 2023-04-19 03:08:23,495]\u001b[0m Trial 18 finished with value: 0.7407952871870398 and parameters: {'C': 14.286479971937311, 'gamma': 0.03549825684760295}. Best is trial 14 with value: 0.7452135493372607.\u001b[0m\n",
      "\u001b[32m[I 2023-04-19 03:08:25,920]\u001b[0m Trial 19 finished with value: 0.7437407952871871 and parameters: {'C': 13.9735080129614, 'gamma': 0.032337968997520936}. Best is trial 14 with value: 0.7452135493372607.\u001b[0m\n",
      "\u001b[32m[I 2023-04-19 03:08:28,317]\u001b[0m Trial 20 finished with value: 0.7444771723122239 and parameters: {'C': 14.627605928479833, 'gamma': 0.029960450784461457}. Best is trial 14 with value: 0.7452135493372607.\u001b[0m\n",
      "\u001b[32m[I 2023-04-19 03:08:30,746]\u001b[0m Trial 21 finished with value: 0.7437407952871871 and parameters: {'C': 14.356581237860464, 'gamma': 0.030900695343775514}. Best is trial 14 with value: 0.7452135493372607.\u001b[0m\n",
      "\u001b[32m[I 2023-04-19 03:08:33,167]\u001b[0m Trial 22 finished with value: 0.7444771723122239 and parameters: {'C': 14.488147853236352, 'gamma': 0.03167790894418547}. Best is trial 14 with value: 0.7452135493372607.\u001b[0m\n",
      "\u001b[32m[I 2023-04-19 03:08:35,567]\u001b[0m Trial 23 finished with value: 0.7452135493372607 and parameters: {'C': 14.876927924029532, 'gamma': 0.030713421766894452}. Best is trial 14 with value: 0.7452135493372607.\u001b[0m\n",
      "\u001b[32m[I 2023-04-19 03:08:37,921]\u001b[0m Trial 24 finished with value: 0.7430044182621502 and parameters: {'C': 15.203583635321817, 'gamma': 0.029174422421092864}. Best is trial 14 with value: 0.7452135493372607.\u001b[0m\n",
      "\u001b[32m[I 2023-04-19 03:08:40,387]\u001b[0m Trial 25 finished with value: 0.7422680412371134 and parameters: {'C': 14.791452415456519, 'gamma': 0.032888487850376534}. Best is trial 14 with value: 0.7452135493372607.\u001b[0m\n",
      "\u001b[32m[I 2023-04-19 03:08:42,809]\u001b[0m Trial 26 finished with value: 0.7452135493372607 and parameters: {'C': 14.980519815206709, 'gamma': 0.030690109694640064}. Best is trial 14 with value: 0.7452135493372607.\u001b[0m\n",
      "\u001b[32m[I 2023-04-19 03:08:45,288]\u001b[0m Trial 27 finished with value: 0.7407952871870398 and parameters: {'C': 14.93720840428915, 'gamma': 0.03484114957982656}. Best is trial 14 with value: 0.7452135493372607.\u001b[0m\n",
      "\u001b[32m[I 2023-04-19 03:08:47,586]\u001b[0m Trial 28 finished with value: 0.7422680412371134 and parameters: {'C': 15.327511350093264, 'gamma': 0.028568506054346736}. Best is trial 14 with value: 0.7452135493372607.\u001b[0m\n",
      "\u001b[32m[I 2023-04-19 03:08:50,030]\u001b[0m Trial 29 finished with value: 0.7452135493372607 and parameters: {'C': 15.00170918431575, 'gamma': 0.03023179024623708}. Best is trial 14 with value: 0.7452135493372607.\u001b[0m\n",
      "\u001b[32m[I 2023-04-19 03:08:52,371]\u001b[0m Trial 30 finished with value: 0.7430044182621502 and parameters: {'C': 15.022664781444606, 'gamma': 0.029096482682468856}. Best is trial 14 with value: 0.7452135493372607.\u001b[0m\n",
      "\u001b[32m[I 2023-04-19 03:08:54,768]\u001b[0m Trial 31 finished with value: 0.7444771723122239 and parameters: {'C': 14.98597838793664, 'gamma': 0.029945963433748553}. Best is trial 14 with value: 0.7452135493372607.\u001b[0m\n",
      "\u001b[32m[I 2023-04-19 03:08:57,240]\u001b[0m Trial 32 finished with value: 0.7452135493372607 and parameters: {'C': 14.816567872144008, 'gamma': 0.0305481253591361}. Best is trial 14 with value: 0.7452135493372607.\u001b[0m\n",
      "\u001b[32m[I 2023-04-19 03:08:59,659]\u001b[0m Trial 33 finished with value: 0.7444771723122239 and parameters: {'C': 15.142424697025124, 'gamma': 0.031909778125712836}. Best is trial 14 with value: 0.7452135493372607.\u001b[0m\n",
      "\u001b[32m[I 2023-04-19 03:09:02,000]\u001b[0m Trial 34 finished with value: 0.7430044182621502 and parameters: {'C': 15.413592593669485, 'gamma': 0.02947249539205969}. Best is trial 14 with value: 0.7452135493372607.\u001b[0m\n",
      "\u001b[32m[I 2023-04-19 03:09:04,416]\u001b[0m Trial 35 finished with value: 0.7444771723122239 and parameters: {'C': 14.735486913910457, 'gamma': 0.030454771446405515}. Best is trial 14 with value: 0.7452135493372607.\u001b[0m\n",
      "\u001b[32m[I 2023-04-19 03:09:06,889]\u001b[0m Trial 36 finished with value: 0.7422680412371134 and parameters: {'C': 15.521267825993952, 'gamma': 0.03242555192376768}. Best is trial 14 with value: 0.7452135493372607.\u001b[0m\n",
      "\u001b[32m[I 2023-04-19 03:09:09,343]\u001b[0m Trial 37 finished with value: 0.7415316642120766 and parameters: {'C': 15.039112676442032, 'gamma': 0.03375712510343406}. Best is trial 14 with value: 0.7452135493372607.\u001b[0m\n",
      "\u001b[32m[I 2023-04-19 03:09:11,632]\u001b[0m Trial 38 finished with value: 0.7415316642120766 and parameters: {'C': 15.67207878299535, 'gamma': 0.028068209353187983}. Best is trial 14 with value: 0.7452135493372607.\u001b[0m\n"
     ]
    },
    {
     "name": "stderr",
     "output_type": "stream",
     "text": [
      "\u001b[32m[I 2023-04-19 03:09:14,045]\u001b[0m Trial 39 finished with value: 0.7430044182621502 and parameters: {'C': 15.217439474289149, 'gamma': 0.03128180094297924}. Best is trial 14 with value: 0.7452135493372607.\u001b[0m\n",
      "\u001b[32m[I 2023-04-19 03:09:16,292]\u001b[0m Trial 40 finished with value: 0.7430044182621502 and parameters: {'C': 14.8983230659044, 'gamma': 0.027588694283165648}. Best is trial 14 with value: 0.7452135493372607.\u001b[0m\n",
      "\u001b[32m[I 2023-04-19 03:09:18,654]\u001b[0m Trial 41 finished with value: 0.7452135493372607 and parameters: {'C': 14.685715376416743, 'gamma': 0.03034970815080575}. Best is trial 14 with value: 0.7452135493372607.\u001b[0m\n",
      "\u001b[32m[I 2023-04-19 03:09:21,045]\u001b[0m Trial 42 finished with value: 0.7452135493372607 and parameters: {'C': 14.811290682930254, 'gamma': 0.030631462437800207}. Best is trial 14 with value: 0.7452135493372607.\u001b[0m\n",
      "\u001b[32m[I 2023-04-19 03:09:23,415]\u001b[0m Trial 43 finished with value: 0.7437407952871871 and parameters: {'C': 14.47671481304924, 'gamma': 0.0293912604245046}. Best is trial 14 with value: 0.7452135493372607.\u001b[0m\n",
      "\u001b[32m[I 2023-04-19 03:09:25,801]\u001b[0m Trial 44 finished with value: 0.7444771723122239 and parameters: {'C': 14.877952564049997, 'gamma': 0.029947741643732213}. Best is trial 14 with value: 0.7452135493372607.\u001b[0m\n",
      "\u001b[32m[I 2023-04-19 03:09:28,222]\u001b[0m Trial 45 finished with value: 0.7444771723122239 and parameters: {'C': 15.09393493624302, 'gamma': 0.031196369760060644}. Best is trial 14 with value: 0.7452135493372607.\u001b[0m\n",
      "\u001b[32m[I 2023-04-19 03:09:30,657]\u001b[0m Trial 46 finished with value: 0.7430044182621502 and parameters: {'C': 14.609492129286192, 'gamma': 0.03234588909014194}. Best is trial 14 with value: 0.7452135493372607.\u001b[0m\n",
      "\u001b[32m[I 2023-04-19 03:09:33,050]\u001b[0m Trial 47 finished with value: 0.7452135493372607 and parameters: {'C': 15.261440295156678, 'gamma': 0.03054956260460652}. Best is trial 14 with value: 0.7452135493372607.\u001b[0m\n",
      "\u001b[32m[I 2023-04-19 03:09:35,345]\u001b[0m Trial 48 finished with value: 0.7415316642120766 and parameters: {'C': 15.071734934906413, 'gamma': 0.028759638610055812}. Best is trial 14 with value: 0.7452135493372607.\u001b[0m\n",
      "\u001b[32m[I 2023-04-19 03:09:37,805]\u001b[0m Trial 49 finished with value: 0.7437407952871871 and parameters: {'C': 14.362390815470915, 'gamma': 0.030028672736331967}. Best is trial 14 with value: 0.7452135493372607.\u001b[0m\n",
      "\u001b[32m[I 2023-04-19 03:09:40,241]\u001b[0m Trial 50 finished with value: 0.7452135493372607 and parameters: {'C': 14.76310060149063, 'gamma': 0.031046065360716642}. Best is trial 14 with value: 0.7452135493372607.\u001b[0m\n",
      "\u001b[32m[I 2023-04-19 03:09:42,703]\u001b[0m Trial 51 finished with value: 0.7444771723122239 and parameters: {'C': 14.662861442394133, 'gamma': 0.030251405010063966}. Best is trial 14 with value: 0.7452135493372607.\u001b[0m\n",
      "\u001b[32m[I 2023-04-19 03:09:45,187]\u001b[0m Trial 52 finished with value: 0.7422680412371134 and parameters: {'C': 14.896141223610371, 'gamma': 0.029536687671941085}. Best is trial 14 with value: 0.7452135493372607.\u001b[0m\n",
      "\u001b[32m[I 2023-04-19 03:09:47,652]\u001b[0m Trial 53 finished with value: 0.7444771723122239 and parameters: {'C': 14.586624368682992, 'gamma': 0.03168688022182494}. Best is trial 14 with value: 0.7452135493372607.\u001b[0m\n",
      "\u001b[32m[I 2023-04-19 03:09:50,093]\u001b[0m Trial 54 finished with value: 0.7452135493372607 and parameters: {'C': 14.775771855543606, 'gamma': 0.030596334173065492}. Best is trial 14 with value: 0.7452135493372607.\u001b[0m\n",
      "\u001b[32m[I 2023-04-19 03:09:52,531]\u001b[0m Trial 55 finished with value: 0.7452135493372607 and parameters: {'C': 14.677380582284544, 'gamma': 0.03118875262213291}. Best is trial 14 with value: 0.7452135493372607.\u001b[0m\n",
      "\u001b[32m[I 2023-04-19 03:09:54,989]\u001b[0m Trial 56 finished with value: 0.7444771723122239 and parameters: {'C': 14.522484725931236, 'gamma': 0.032103727728107406}. Best is trial 14 with value: 0.7452135493372607.\u001b[0m\n",
      "\u001b[32m[I 2023-04-19 03:09:57,454]\u001b[0m Trial 57 finished with value: 0.7422680412371134 and parameters: {'C': 14.978867445293426, 'gamma': 0.03292904023043042}. Best is trial 14 with value: 0.7452135493372607.\u001b[0m\n",
      "\u001b[32m[I 2023-04-19 03:09:59,862]\u001b[0m Trial 58 finished with value: 0.7437407952871871 and parameters: {'C': 14.239967616284536, 'gamma': 0.029961880318758818}. Best is trial 14 with value: 0.7452135493372607.\u001b[0m\n",
      "\u001b[32m[I 2023-04-19 03:10:02,257]\u001b[0m Trial 59 finished with value: 0.7430044182621502 and parameters: {'C': 15.136765628877814, 'gamma': 0.03146084036719604}. Best is trial 14 with value: 0.7452135493372607.\u001b[0m\n",
      "\u001b[32m[I 2023-04-19 03:10:04,649]\u001b[0m Trial 60 finished with value: 0.7452135493372607 and parameters: {'C': 14.863072777814523, 'gamma': 0.030740593429036733}. Best is trial 14 with value: 0.7452135493372607.\u001b[0m\n",
      "\u001b[32m[I 2023-04-19 03:10:07,012]\u001b[0m Trial 61 finished with value: 0.7452135493372607 and parameters: {'C': 14.816831109457723, 'gamma': 0.030518148277101805}. Best is trial 14 with value: 0.7452135493372607.\u001b[0m\n",
      "\u001b[32m[I 2023-04-19 03:10:09,386]\u001b[0m Trial 62 finished with value: 0.7422680412371134 and parameters: {'C': 14.705764134310453, 'gamma': 0.029687163441159355}. Best is trial 14 with value: 0.7452135493372607.\u001b[0m\n",
      "\u001b[32m[I 2023-04-19 03:10:11,754]\u001b[0m Trial 63 finished with value: 0.7444771723122239 and parameters: {'C': 14.403473626476979, 'gamma': 0.030357998626054386}. Best is trial 14 with value: 0.7452135493372607.\u001b[0m\n",
      "\u001b[32m[I 2023-04-19 03:10:14,059]\u001b[0m Trial 64 finished with value: 0.7430044182621502 and parameters: {'C': 14.944628931711787, 'gamma': 0.02905610471526701}. Best is trial 14 with value: 0.7452135493372607.\u001b[0m\n",
      "\u001b[32m[I 2023-04-19 03:10:16,440]\u001b[0m Trial 65 finished with value: 0.7444771723122239 and parameters: {'C': 14.556311369859724, 'gamma': 0.030868255284457087}. Best is trial 14 with value: 0.7452135493372607.\u001b[0m\n",
      "\u001b[32m[I 2023-04-19 03:10:18,867]\u001b[0m Trial 66 finished with value: 0.7444771723122239 and parameters: {'C': 14.808799468143587, 'gamma': 0.03187942797509811}. Best is trial 14 with value: 0.7452135493372607.\u001b[0m\n",
      "\u001b[32m[I 2023-04-19 03:10:21,281]\u001b[0m Trial 67 finished with value: 0.7422680412371134 and parameters: {'C': 15.014806712536384, 'gamma': 0.03256135059418777}. Best is trial 14 with value: 0.7452135493372607.\u001b[0m\n",
      "\u001b[32m[I 2023-04-19 03:10:23,664]\u001b[0m Trial 68 finished with value: 0.7430044182621502 and parameters: {'C': 14.70440762176957, 'gamma': 0.0313378870318423}. Best is trial 14 with value: 0.7452135493372607.\u001b[0m\n",
      "\u001b[32m[I 2023-04-19 03:10:26,022]\u001b[0m Trial 69 finished with value: 0.7422680412371134 and parameters: {'C': 14.633987153449187, 'gamma': 0.029728341420948542}. Best is trial 14 with value: 0.7452135493372607.\u001b[0m\n",
      "\u001b[32m[I 2023-04-19 03:10:28,402]\u001b[0m Trial 70 finished with value: 0.7452135493372607 and parameters: {'C': 15.10301431448955, 'gamma': 0.03038543119713661}. Best is trial 14 with value: 0.7452135493372607.\u001b[0m\n",
      "\u001b[32m[I 2023-04-19 03:10:30,780]\u001b[0m Trial 71 finished with value: 0.7444771723122239 and parameters: {'C': 15.269257807422058, 'gamma': 0.030817444945287313}. Best is trial 14 with value: 0.7452135493372607.\u001b[0m\n",
      "\u001b[32m[I 2023-04-19 03:10:33,154]\u001b[0m Trial 72 finished with value: 0.7452135493372607 and parameters: {'C': 15.254274608415347, 'gamma': 0.03044315813359159}. Best is trial 14 with value: 0.7452135493372607.\u001b[0m\n",
      "\u001b[32m[I 2023-04-19 03:10:35,559]\u001b[0m Trial 73 finished with value: 0.7430044182621502 and parameters: {'C': 14.973749835612841, 'gamma': 0.031537124907104495}. Best is trial 14 with value: 0.7452135493372607.\u001b[0m\n",
      "\u001b[32m[I 2023-04-19 03:10:37,939]\u001b[0m Trial 74 finished with value: 0.7444771723122239 and parameters: {'C': 15.190946989806065, 'gamma': 0.030859769931423777}. Best is trial 14 with value: 0.7452135493372607.\u001b[0m\n",
      "\u001b[32m[I 2023-04-19 03:10:40,244]\u001b[0m Trial 75 finished with value: 0.7430044182621502 and parameters: {'C': 14.852078777695628, 'gamma': 0.029357618468524298}. Best is trial 14 with value: 0.7452135493372607.\u001b[0m\n",
      "\u001b[32m[I 2023-04-19 03:10:42,605]\u001b[0m Trial 76 finished with value: 0.7459499263622975 and parameters: {'C': 15.37259609818752, 'gamma': 0.030134898867955652}. Best is trial 76 with value: 0.7459499263622975.\u001b[0m\n",
      "\u001b[32m[I 2023-04-19 03:10:44,981]\u001b[0m Trial 77 finished with value: 0.7459499263622975 and parameters: {'C': 15.354977991243533, 'gamma': 0.030118081850288764}. Best is trial 76 with value: 0.7459499263622975.\u001b[0m\n"
     ]
    },
    {
     "name": "stderr",
     "output_type": "stream",
     "text": [
      "\u001b[32m[I 2023-04-19 03:10:47,346]\u001b[0m Trial 78 finished with value: 0.7452135493372607 and parameters: {'C': 15.054235917894207, 'gamma': 0.030140567675517708}. Best is trial 76 with value: 0.7459499263622975.\u001b[0m\n",
      "\u001b[32m[I 2023-04-19 03:10:49,625]\u001b[0m Trial 79 finished with value: 0.7407952871870398 and parameters: {'C': 15.406867899491468, 'gamma': 0.028823490012518976}. Best is trial 76 with value: 0.7459499263622975.\u001b[0m\n",
      "\u001b[32m[I 2023-04-19 03:10:51,982]\u001b[0m Trial 80 finished with value: 0.7437407952871871 and parameters: {'C': 15.312661689262905, 'gamma': 0.029710639800279236}. Best is trial 76 with value: 0.7459499263622975.\u001b[0m\n",
      "\u001b[32m[I 2023-04-19 03:10:54,345]\u001b[0m Trial 81 finished with value: 0.7444771723122239 and parameters: {'C': 15.141327592724469, 'gamma': 0.031227081613163232}. Best is trial 76 with value: 0.7459499263622975.\u001b[0m\n",
      "\u001b[32m[I 2023-04-19 03:10:56,729]\u001b[0m Trial 82 finished with value: 0.7452135493372607 and parameters: {'C': 14.92369938617409, 'gamma': 0.030182354209601414}. Best is trial 76 with value: 0.7459499263622975.\u001b[0m\n",
      "\u001b[32m[I 2023-04-19 03:10:59,128]\u001b[0m Trial 83 finished with value: 0.7444771723122239 and parameters: {'C': 14.776115370092393, 'gamma': 0.03190310484757442}. Best is trial 76 with value: 0.7459499263622975.\u001b[0m\n",
      "\u001b[32m[I 2023-04-19 03:11:01,438]\u001b[0m Trial 84 finished with value: 0.7430044182621502 and parameters: {'C': 15.485661334306453, 'gamma': 0.029185810835963808}. Best is trial 76 with value: 0.7459499263622975.\u001b[0m\n",
      "\u001b[32m[I 2023-04-19 03:11:03,780]\u001b[0m Trial 85 finished with value: 0.7422680412371134 and parameters: {'C': 14.483984879241156, 'gamma': 0.029788182283917695}. Best is trial 76 with value: 0.7459499263622975.\u001b[0m\n",
      "\u001b[32m[I 2023-04-19 03:11:06,198]\u001b[0m Trial 86 finished with value: 0.7444771723122239 and parameters: {'C': 15.58261425874037, 'gamma': 0.031006101229252125}. Best is trial 76 with value: 0.7459499263622975.\u001b[0m\n",
      "\u001b[32m[I 2023-04-19 03:11:08,638]\u001b[0m Trial 87 finished with value: 0.7430044182621502 and parameters: {'C': 15.334092713068243, 'gamma': 0.02947487072298559}. Best is trial 76 with value: 0.7459499263622975.\u001b[0m\n",
      "\u001b[32m[I 2023-04-19 03:11:11,145]\u001b[0m Trial 88 finished with value: 0.7452135493372607 and parameters: {'C': 15.790931988544365, 'gamma': 0.030177756510308334}. Best is trial 76 with value: 0.7459499263622975.\u001b[0m\n",
      "\u001b[32m[I 2023-04-19 03:11:13,696]\u001b[0m Trial 89 finished with value: 0.7452135493372607 and parameters: {'C': 14.58457135479734, 'gamma': 0.03073181475576493}. Best is trial 76 with value: 0.7459499263622975.\u001b[0m\n",
      "\u001b[32m[I 2023-04-19 03:11:16,149]\u001b[0m Trial 90 finished with value: 0.7437407952871871 and parameters: {'C': 14.718696494433264, 'gamma': 0.0316384954779498}. Best is trial 76 with value: 0.7459499263622975.\u001b[0m\n",
      "\u001b[32m[I 2023-04-19 03:11:18,559]\u001b[0m Trial 91 finished with value: 0.7452135493372607 and parameters: {'C': 15.049873684966938, 'gamma': 0.030467780399882093}. Best is trial 76 with value: 0.7459499263622975.\u001b[0m\n",
      "\u001b[32m[I 2023-04-19 03:11:21,079]\u001b[0m Trial 92 finished with value: 0.7437407952871871 and parameters: {'C': 14.937688675650849, 'gamma': 0.031205316252910502}. Best is trial 76 with value: 0.7459499263622975.\u001b[0m\n",
      "\u001b[32m[I 2023-04-19 03:11:23,576]\u001b[0m Trial 93 finished with value: 0.7452135493372607 and parameters: {'C': 15.191956657135833, 'gamma': 0.030648105801629473}. Best is trial 76 with value: 0.7459499263622975.\u001b[0m\n",
      "\u001b[32m[I 2023-04-19 03:11:26,009]\u001b[0m Trial 94 finished with value: 0.7452135493372607 and parameters: {'C': 14.87076944469654, 'gamma': 0.030223754814985643}. Best is trial 76 with value: 0.7459499263622975.\u001b[0m\n",
      "\u001b[32m[I 2023-04-19 03:11:28,354]\u001b[0m Trial 95 finished with value: 0.7437407952871871 and parameters: {'C': 15.000149561115515, 'gamma': 0.02986489525204992}. Best is trial 76 with value: 0.7459499263622975.\u001b[0m\n",
      "\u001b[32m[I 2023-04-19 03:11:30,739]\u001b[0m Trial 96 finished with value: 0.7430044182621502 and parameters: {'C': 15.391251760012727, 'gamma': 0.03154480090821736}. Best is trial 76 with value: 0.7459499263622975.\u001b[0m\n",
      "\u001b[32m[I 2023-04-19 03:11:33,219]\u001b[0m Trial 97 finished with value: 0.7444771723122239 and parameters: {'C': 14.814693324711905, 'gamma': 0.03209173509118249}. Best is trial 76 with value: 0.7459499263622975.\u001b[0m\n",
      "\u001b[32m[I 2023-04-19 03:11:35,635]\u001b[0m Trial 98 finished with value: 0.7444771723122239 and parameters: {'C': 15.104523498508106, 'gamma': 0.030961845647691725}. Best is trial 76 with value: 0.7459499263622975.\u001b[0m\n",
      "\u001b[32m[I 2023-04-19 03:11:38,030]\u001b[0m Trial 99 finished with value: 0.7444771723122239 and parameters: {'C': 14.657430336692238, 'gamma': 0.03056826666452362}. Best is trial 76 with value: 0.7459499263622975.\u001b[0m\n"
     ]
    }
   ],
   "source": [
    "import optuna\n",
    "def objective(trial):\n",
    "    C = trial.suggest_loguniform('C', 13, 16)\n",
    "    gamma = trial.suggest_loguniform('gamma', 0.025, 0.04)\n",
    "    clf = SVC(C=C, gamma=gamma)\n",
    "    clf.fit(scaler.transform(X_train), y_train)\n",
    "    score = clf.score(scaler.transform(X_test), y_test)\n",
    "    return score\n",
    "\n",
    "\n",
    "study = optuna.create_study(direction='maximize')\n",
    "study.optimize(objective, n_trials=100)"
   ]
  },
  {
   "cell_type": "code",
   "execution_count": null,
   "id": "44fd0d08",
   "metadata": {},
   "outputs": [
    {
     "name": "stdout",
     "output_type": "stream",
     "text": [
      "Accuracy SVM : 0.74595 \n",
      "\n"
     ]
    }
   ],
   "source": [
    "#OPTIMAL MODEL ASSESSS\n",
    "\n",
    "svclassifier = SVC(C=15.37, kernel='rbf', gamma=0.0301, class_weight=None, decision_function_shape='ovr', shrinking=True, tol=1e-4, max_iter=-1)\n",
    "\n",
    "model_assess(svclassifier, \"SVM\")"
   ]
  }
 ],
 "metadata": {
  "kernelspec": {
   "display_name": "Python 3 (ipykernel)",
   "language": "python",
   "name": "python3"
  },
  "language_info": {
   "codemirror_mode": {
    "name": "ipython",
    "version": 3
   },
   "file_extension": ".py",
   "mimetype": "text/x-python",
   "name": "python",
   "nbconvert_exporter": "python",
   "pygments_lexer": "ipython3",
   "version": "3.10.9"
  },
  "vscode": {
   "interpreter": {
    "hash": "4a7b38cd3da86378dfeb74ddeabf87f5cdf9680c93f9c0dfbe49fd868ac81916"
   }
  }
 },
 "nbformat": 4,
 "nbformat_minor": 5
}
